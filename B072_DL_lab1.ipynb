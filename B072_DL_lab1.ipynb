{
  "nbformat": 4,
  "nbformat_minor": 0,
  "metadata": {
    "colab": {
      "name": "B072_DL_lab1.ipynb",
      "provenance": [],
      "collapsed_sections": []
    },
    "kernelspec": {
      "name": "python3",
      "display_name": "Python 3"
    },
    "language_info": {
      "name": "python"
    }
  },
  "cells": [
    {
      "cell_type": "markdown",
      "source": [
        "------------------------------------------------------------------------------\n",
        "\n",
        "\n",
        "*  **NAME:**  ARCHISHA SRIVASTAVA\n",
        "\n",
        "*   **DL LAB1**\n",
        "*   **ROLL NO.** : B072\n",
        "------------------------------------------------------------------------------"
      ],
      "metadata": {
        "id": "egxXgr_HziTR"
      }
    },
    {
      "cell_type": "markdown",
      "source": [
        "**AIM**\n",
        "\n",
        "> \n",
        "Training an Image Classifier\n",
        "\n"
      ],
      "metadata": {
        "id": "dO9YZsq-q4Dx"
      }
    },
    {
      "cell_type": "markdown",
      "source": [
        "**ABOUT THE DATASET**\n",
        "\n",
        "> \n",
        "\n",
        "\n",
        "Fashion-MNIST is a dataset of Zalando's article images—consisting of a training set of 60,000 examples and a test set of 10,000 examples. Each example is a 28x28 grayscale image, associated with a label from 10 classes."
      ],
      "metadata": {
        "id": "co6U0uAis5tb"
      }
    },
    {
      "cell_type": "code",
      "execution_count": null,
      "metadata": {
        "id": "tTfqdXtffpwd"
      },
      "outputs": [],
      "source": [
        "#importing required modules\n",
        "import tensorflow as tf\n",
        "import numpy as np\n",
        "import matplotlib.pyplot as plt\n"
      ]
    },
    {
      "cell_type": "code",
      "source": [
        "#importing fashion mnist dataset from keras\n",
        "dataset =tf.keras.datasets.fashion_mnist"
      ],
      "metadata": {
        "id": "y_HGHCnxf9h0"
      },
      "execution_count": null,
      "outputs": []
    },
    {
      "cell_type": "code",
      "source": [
        "#dividing data into training and testing sets\n",
        "(train_images,train_label),(test_images,test_label)=dataset.load_data()"
      ],
      "metadata": {
        "id": "AQPm10negSjA"
      },
      "execution_count": null,
      "outputs": []
    },
    {
      "cell_type": "code",
      "source": [
        "#Checking the shape \n",
        "'''' there are 60,000 images in training dataset\n",
        "each image is of 28 x 28'''\n",
        "train_images.shape"
      ],
      "metadata": {
        "colab": {
          "base_uri": "https://localhost:8080/"
        },
        "id": "KrpKcPp-hBJb",
        "outputId": "0f5ab28b-1394-466d-bef5-90ca370de0fd"
      },
      "execution_count": null,
      "outputs": [
        {
          "output_type": "execute_result",
          "data": {
            "text/plain": [
              "(60000, 28, 28)"
            ]
          },
          "metadata": {},
          "execution_count": 23
        }
      ]
    },
    {
      "cell_type": "code",
      "source": [
        "'''' there are 10,000 images in training dataset\n",
        "each image is of 28 x 28 pixels'''\n",
        "test_images.shape"
      ],
      "metadata": {
        "colab": {
          "base_uri": "https://localhost:8080/"
        },
        "id": "gjysnPaGhXRc",
        "outputId": "69ca0959-0886-4d72-b6c1-7cb8808493d2"
      },
      "execution_count": null,
      "outputs": [
        {
          "output_type": "execute_result",
          "data": {
            "text/plain": [
              "(10000, 28, 28)"
            ]
          },
          "metadata": {},
          "execution_count": 24
        }
      ]
    },
    {
      "cell_type": "markdown",
      "source": [
        "The images are 28x28 NumPy arrays, with pixel values ranging from 0 to 255."
      ],
      "metadata": {
        "id": "QLMhWj7r0pXo"
      }
    },
    {
      "cell_type": "code",
      "source": [
        "len(test_label)"
      ],
      "metadata": {
        "colab": {
          "base_uri": "https://localhost:8080/"
        },
        "id": "GpBZXeD1h3MW",
        "outputId": "59d93052-48f7-4d47-ffaf-ac779738f4df"
      },
      "execution_count": null,
      "outputs": [
        {
          "output_type": "execute_result",
          "data": {
            "text/plain": [
              "10000"
            ]
          },
          "metadata": {},
          "execution_count": 25
        }
      ]
    },
    {
      "cell_type": "markdown",
      "source": [
        "![lab colab.png](data:image/png;base64,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)"
      ],
      "metadata": {
        "id": "Z6G54dDT1b61"
      }
    },
    {
      "cell_type": "code",
      "source": [
        "#normalizing \n",
        "train_images=train_images/255\n",
        "test_images=test_images/255\n",
        "train_images[0,10:20,10:20]"
      ],
      "metadata": {
        "colab": {
          "base_uri": "https://localhost:8080/"
        },
        "id": "aR2fYR2tiss_",
        "outputId": "21516646-48e2-4549-e254-0956904ceef1"
      },
      "execution_count": null,
      "outputs": [
        {
          "output_type": "execute_result",
          "data": {
            "text/plain": [
              "array([[0.        , 0.        , 0.        , 0.75686275, 0.89411765,\n",
              "        0.85490196, 0.83529412, 0.77647059, 0.70588235, 0.83137255],\n",
              "       [0.01176471, 0.        , 0.04705882, 0.85882353, 0.8627451 ,\n",
              "        0.83137255, 0.85490196, 0.75294118, 0.6627451 , 0.89019608],\n",
              "       [0.02352941, 0.        , 0.38823529, 0.95686275, 0.87058824,\n",
              "        0.8627451 , 0.85490196, 0.79607843, 0.77647059, 0.86666667],\n",
              "       [0.        , 0.        , 0.21568627, 0.9254902 , 0.89411765,\n",
              "        0.90196078, 0.89411765, 0.94117647, 0.90980392, 0.83529412],\n",
              "       [0.        , 0.        , 0.92941176, 0.88627451, 0.85098039,\n",
              "        0.8745098 , 0.87058824, 0.85882353, 0.87058824, 0.86666667],\n",
              "       [0.56862745, 0.8       , 0.89411765, 0.81176471, 0.83529412,\n",
              "        0.86666667, 0.85490196, 0.81568627, 0.82745098, 0.85490196],\n",
              "       [0.8627451 , 0.87058824, 0.85098039, 0.88627451, 0.78431373,\n",
              "        0.80392157, 0.82745098, 0.90196078, 0.87843137, 0.91764706],\n",
              "       [0.81568627, 0.81960784, 0.78431373, 0.62352941, 0.96078431,\n",
              "        0.75686275, 0.80784314, 0.8745098 , 1.        , 1.        ],\n",
              "       [0.80392157, 0.8627451 , 0.94117647, 0.31372549, 0.58823529,\n",
              "        1.        , 0.89803922, 0.86666667, 0.7372549 , 0.60392157],\n",
              "       [0.76078431, 0.84313725, 0.85098039, 0.94509804, 0.25490196,\n",
              "        0.28627451, 0.41568627, 0.45882353, 0.65882353, 0.85882353]])"
            ]
          },
          "metadata": {},
          "execution_count": 26
        }
      ]
    },
    {
      "cell_type": "code",
      "source": [
        "#displaying an image from the dataset\n",
        "plt.imshow(test_images[4])\n",
        "'''The colorbar() function in pyplot module of matplotlib adds a colorbar to a plot indicating the color scale.'''\n",
        "plt.colorbar()\n",
        "plt.show()\n",
        "print(test_label[4])"
      ],
      "metadata": {
        "colab": {
          "base_uri": "https://localhost:8080/",
          "height": 284
        },
        "id": "pO4nJgGyjh3S",
        "outputId": "c4e0fd89-6d47-4b07-d86d-5b9e17c35524"
      },
      "execution_count": null,
      "outputs": [
        {
          "output_type": "display_data",
          "data": {
            "text/plain": [
              "<Figure size 432x288 with 2 Axes>"
            ],
            "image/png": "[encoded data removed]"
          },
          "metadata": {
            "needs_background": "light"
          }
        },
        {
          "output_type": "stream",
          "name": "stdout",
          "text": [
            "6\n"
          ]
        }
      ]
    },
    {
      "cell_type": "code",
      "source": [
        "labels={0:'T-shirt',1:'Trousers',2:'Pull over',3:'Dress',4:'Coat',5:'Sandal',6:'Shirt',7:'Sneakers',8:'Bag',9:'Boot'}"
      ],
      "metadata": {
        "id": "cP7lvuY5j3_q"
      },
      "execution_count": null,
      "outputs": []
    },
    {
      "cell_type": "code",
      "source": [
        "'''Creating a sequential model the first layer will take inputs of shape(28,28)\n",
        " and the second layer(hidden layer) will have 128 nodes \n",
        " output layer will have 10 nodes since 10 labels'''\n",
        "model=tf.keras.Sequential([tf.keras.layers.Flatten(input_shape=(28,28))\n",
        ",tf.keras.layers.Dense(128,activation=\"relu\"),\n",
        "tf.keras.layers.Dense(10)])"
      ],
      "metadata": {
        "id": "dGcVXBrHkWHJ"
      },
      "execution_count": null,
      "outputs": []
    },
    {
      "cell_type": "code",
      "source": [
        "#adam optimiser\n",
        "#losses= difference between actual and predicted\n",
        "model.compile(optimizer=\"adam\",loss=tf.keras.losses.SparseCategoricalCrossentropy(from_logits=True),metrics=['accuracy'])"
      ],
      "metadata": {
        "id": "TzJURzRXnQGi"
      },
      "execution_count": null,
      "outputs": []
    },
    {
      "cell_type": "code",
      "source": [
        "model.fit(train_images,train_label,epochs=25,batch_size=50)\n",
        "#train accuracy "
      ],
      "metadata": {
        "colab": {
          "base_uri": "https://localhost:8080/"
        },
        "id": "cVd3c8TloXsb",
        "outputId": "e273e7f0-25d0-4310-e22c-26e47e57501e"
      },
      "execution_count": null,
      "outputs": [
        {
          "output_type": "stream",
          "name": "stdout",
          "text": [
            "Epoch 1/25\n",
            "1200/1200 [==============================] - 3s 2ms/step - loss: 0.5102 - accuracy: 0.8218\n",
            "Epoch 2/25\n",
            "1200/1200 [==============================] - 3s 2ms/step - loss: 0.3811 - accuracy: 0.8639\n",
            "Epoch 3/25\n",
            "1200/1200 [==============================] - 3s 2ms/step - loss: 0.3425 - accuracy: 0.8771\n",
            "Epoch 4/25\n",
            "1200/1200 [==============================] - 3s 2ms/step - loss: 0.3162 - accuracy: 0.8849\n",
            "Epoch 5/25\n",
            "1200/1200 [==============================] - 3s 2ms/step - loss: 0.2991 - accuracy: 0.8922\n",
            "Epoch 6/25\n",
            "1200/1200 [==============================] - 3s 2ms/step - loss: 0.2849 - accuracy: 0.8960\n",
            "Epoch 7/25\n",
            "1200/1200 [==============================] - 3s 2ms/step - loss: 0.2703 - accuracy: 0.9017\n",
            "Epoch 8/25\n",
            "1200/1200 [==============================] - 3s 2ms/step - loss: 0.2622 - accuracy: 0.9034\n",
            "Epoch 9/25\n",
            "1200/1200 [==============================] - 3s 2ms/step - loss: 0.2526 - accuracy: 0.9065\n",
            "Epoch 10/25\n",
            "1200/1200 [==============================] - 3s 2ms/step - loss: 0.2439 - accuracy: 0.9088\n",
            "Epoch 11/25\n",
            "1200/1200 [==============================] - 3s 2ms/step - loss: 0.2334 - accuracy: 0.9129\n",
            "Epoch 12/25\n",
            "1200/1200 [==============================] - 3s 2ms/step - loss: 0.2269 - accuracy: 0.9160\n",
            "Epoch 13/25\n",
            "1200/1200 [==============================] - 3s 2ms/step - loss: 0.2218 - accuracy: 0.9171\n",
            "Epoch 14/25\n",
            "1200/1200 [==============================] - 3s 2ms/step - loss: 0.2131 - accuracy: 0.9207\n",
            "Epoch 15/25\n",
            "1200/1200 [==============================] - 3s 2ms/step - loss: 0.2073 - accuracy: 0.9222\n",
            "Epoch 16/25\n",
            "1200/1200 [==============================] - 3s 2ms/step - loss: 0.2006 - accuracy: 0.9255\n",
            "Epoch 17/25\n",
            "1200/1200 [==============================] - 3s 2ms/step - loss: 0.1972 - accuracy: 0.9265\n",
            "Epoch 18/25\n",
            "1200/1200 [==============================] - 3s 2ms/step - loss: 0.1896 - accuracy: 0.9296\n",
            "Epoch 19/25\n",
            "1200/1200 [==============================] - 3s 2ms/step - loss: 0.1863 - accuracy: 0.9302\n",
            "Epoch 20/25\n",
            "1200/1200 [==============================] - 3s 2ms/step - loss: 0.1807 - accuracy: 0.9325\n",
            "Epoch 21/25\n",
            "1200/1200 [==============================] - 3s 2ms/step - loss: 0.1761 - accuracy: 0.9343\n",
            "Epoch 22/25\n",
            "1200/1200 [==============================] - 3s 2ms/step - loss: 0.1720 - accuracy: 0.9352\n",
            "Epoch 23/25\n",
            "1200/1200 [==============================] - 3s 2ms/step - loss: 0.1692 - accuracy: 0.9367\n",
            "Epoch 24/25\n",
            "1200/1200 [==============================] - 3s 2ms/step - loss: 0.1667 - accuracy: 0.9371\n",
            "Epoch 25/25\n",
            "1200/1200 [==============================] - 3s 2ms/step - loss: 0.1599 - accuracy: 0.9392\n"
          ]
        },
        {
          "output_type": "execute_result",
          "data": {
            "text/plain": [
              "<keras.callbacks.History at 0x7fa57b323610>"
            ]
          },
          "metadata": {},
          "execution_count": 31
        }
      ]
    },
    {
      "cell_type": "code",
      "source": [
        "#testing accuracy is 88.92% for learning rate 0.001\n",
        "test_loss,test_acc=model.evaluate(test_images,test_label,verbose=2)"
      ],
      "metadata": {
        "colab": {
          "base_uri": "https://localhost:8080/"
        },
        "id": "IvJBTvjo0bhY",
        "outputId": "34a13778-512f-4d27-a336-0abf4b095f41"
      },
      "execution_count": null,
      "outputs": [
        {
          "output_type": "stream",
          "name": "stdout",
          "text": [
            "313/313 - 0s - loss: 0.3589 - accuracy: 0.8892 - 482ms/epoch - 2ms/step\n"
          ]
        }
      ]
    },
    {
      "cell_type": "markdown",
      "source": [
        "Acuuracy for training with epochs=25,batch_size=50 and  Learning rate =0.001 is **93.88%**"
      ],
      "metadata": {
        "id": "ngBHpTZQzpf-"
      }
    },
    {
      "cell_type": "code",
      "source": [
        "#using ADAM optimizer \n",
        "'''by default learning rate is 0.001 chnaging learning rate to0.1 and checking the accuracy'''\n",
        "tf.keras.optimizers.Adam(\n",
        "    learning_rate=0.1\n",
        ")"
      ],
      "metadata": {
        "colab": {
          "base_uri": "https://localhost:8080/"
        },
        "id": "uoHlNJo_8SRc",
        "outputId": "4f1abe18-5d51-496e-9f23-1fca283c4b77"
      },
      "execution_count": null,
      "outputs": [
        {
          "output_type": "execute_result",
          "data": {
            "text/plain": [
              "<keras.optimizer_v2.adam.Adam at 0x7fa579b59650>"
            ]
          },
          "metadata": {},
          "execution_count": 17
        }
      ]
    },
    {
      "cell_type": "code",
      "source": [
        "model.fit(train_images,train_label,epochs=25,batch_size=50)\n",
        "#train accuracy "
      ],
      "metadata": {
        "colab": {
          "base_uri": "https://localhost:8080/"
        },
        "id": "awnbpvd7yXUj",
        "outputId": "0402f6cf-382d-455c-8eca-ef24e4b5a0b9"
      },
      "execution_count": null,
      "outputs": [
        {
          "output_type": "stream",
          "name": "stdout",
          "text": [
            "Epoch 1/25\n",
            "1200/1200 [==============================] - 3s 3ms/step - loss: 0.1574 - accuracy: 0.9410\n",
            "Epoch 2/25\n",
            "1200/1200 [==============================] - 3s 2ms/step - loss: 0.1531 - accuracy: 0.9420\n",
            "Epoch 3/25\n",
            "1200/1200 [==============================] - 3s 2ms/step - loss: 0.1490 - accuracy: 0.9445\n",
            "Epoch 4/25\n",
            "1200/1200 [==============================] - 3s 3ms/step - loss: 0.1451 - accuracy: 0.9455\n",
            "Epoch 5/25\n",
            "1200/1200 [==============================] - 3s 2ms/step - loss: 0.1419 - accuracy: 0.9467\n",
            "Epoch 6/25\n",
            "1200/1200 [==============================] - 3s 2ms/step - loss: 0.1409 - accuracy: 0.9473\n",
            "Epoch 7/25\n",
            "1200/1200 [==============================] - 3s 3ms/step - loss: 0.1362 - accuracy: 0.9485\n",
            "Epoch 8/25\n",
            "1200/1200 [==============================] - 3s 3ms/step - loss: 0.1332 - accuracy: 0.9503\n",
            "Epoch 9/25\n",
            "1200/1200 [==============================] - 3s 2ms/step - loss: 0.1300 - accuracy: 0.9521\n",
            "Epoch 10/25\n",
            "1200/1200 [==============================] - 3s 2ms/step - loss: 0.1272 - accuracy: 0.9514\n",
            "Epoch 11/25\n",
            "1200/1200 [==============================] - 3s 2ms/step - loss: 0.1243 - accuracy: 0.9542\n",
            "Epoch 12/25\n",
            "1200/1200 [==============================] - 3s 2ms/step - loss: 0.1223 - accuracy: 0.9539\n",
            "Epoch 13/25\n",
            "1200/1200 [==============================] - 3s 2ms/step - loss: 0.1203 - accuracy: 0.9556\n",
            "Epoch 14/25\n",
            "1200/1200 [==============================] - 3s 2ms/step - loss: 0.1174 - accuracy: 0.9562\n",
            "Epoch 15/25\n",
            "1200/1200 [==============================] - 3s 2ms/step - loss: 0.1143 - accuracy: 0.9569\n",
            "Epoch 16/25\n",
            "1200/1200 [==============================] - 3s 2ms/step - loss: 0.1151 - accuracy: 0.9570\n",
            "Epoch 17/25\n",
            "1200/1200 [==============================] - 3s 2ms/step - loss: 0.1106 - accuracy: 0.9583\n",
            "Epoch 18/25\n",
            "1200/1200 [==============================] - 3s 2ms/step - loss: 0.1083 - accuracy: 0.9597\n",
            "Epoch 19/25\n",
            "1200/1200 [==============================] - 3s 2ms/step - loss: 0.1048 - accuracy: 0.9612\n",
            "Epoch 20/25\n",
            "1200/1200 [==============================] - 3s 2ms/step - loss: 0.1050 - accuracy: 0.9610\n",
            "Epoch 21/25\n",
            "1200/1200 [==============================] - 3s 2ms/step - loss: 0.1029 - accuracy: 0.9613\n",
            "Epoch 22/25\n",
            "1200/1200 [==============================] - 3s 2ms/step - loss: 0.0991 - accuracy: 0.9626\n",
            "Epoch 23/25\n",
            "1200/1200 [==============================] - 3s 2ms/step - loss: 0.0997 - accuracy: 0.9631\n",
            "Epoch 24/25\n",
            "1200/1200 [==============================] - 3s 2ms/step - loss: 0.0947 - accuracy: 0.9651\n",
            "Epoch 25/25\n",
            "1200/1200 [==============================] - 3s 2ms/step - loss: 0.0952 - accuracy: 0.9648\n"
          ]
        },
        {
          "output_type": "execute_result",
          "data": {
            "text/plain": [
              "<keras.callbacks.History at 0x7fa577cc9690>"
            ]
          },
          "metadata": {},
          "execution_count": 18
        }
      ]
    },
    {
      "cell_type": "markdown",
      "source": [
        "After changing the learning rate to 0.1 the training accuracy at 25th epochchanged from **93.88%** to **96.48%**"
      ],
      "metadata": {
        "id": "o4bUUz4kz7t4"
      }
    },
    {
      "cell_type": "code",
      "source": [
        "#minibacges of 32\n",
        "#each epoch is of 32 samples\n",
        "# fit---training sample\n",
        "#evaluating--test sample\n",
        "test_loss,test_acc=model.evaluate(test_images,test_label,verbose=2)\n"
      ],
      "metadata": {
        "colab": {
          "base_uri": "https://localhost:8080/"
        },
        "id": "zSD56CZ5ot6M",
        "outputId": "be73e9cc-3003-44c5-c775-6767942b49c8"
      },
      "execution_count": null,
      "outputs": [
        {
          "output_type": "stream",
          "name": "stdout",
          "text": [
            "313/313 - 1s - loss: 0.5266 - accuracy: 0.8799 - 501ms/epoch - 2ms/step\n"
          ]
        }
      ]
    },
    {
      "cell_type": "markdown",
      "source": [
        "testing accuracy reduced  from 88.92% to 87.99% at changing the learning rate from 0.001 to 0.1"
      ],
      "metadata": {
        "id": "z6tK4ZnD2azM"
      }
    },
    {
      "cell_type": "code",
      "source": [
        "model.predict(test_images[4:5])"
      ],
      "metadata": {
        "colab": {
          "base_uri": "https://localhost:8080/"
        },
        "id": "t9Ser-_y3fYS",
        "outputId": "6ac2116d-9c5b-4493-9fb5-39ac5caecc54"
      },
      "execution_count": null,
      "outputs": [
        {
          "output_type": "execute_result",
          "data": {
            "text/plain": [
              "array([[  4.480517 , -14.700016 ,  -1.2762668,   0.070416 ,  -2.690082 ,\n",
              "        -11.829327 ,   7.05413  , -18.073006 ,  -9.583969 , -10.500597 ]],\n",
              "      dtype=float32)"
            ]
          },
          "metadata": {},
          "execution_count": 33
        }
      ]
    },
    {
      "cell_type": "code",
      "source": [
        "#predicting label for 4th image in the testing image dataset\n",
        "a=model.predict(test_images[4:5])\n",
        "#the index of positive maximum value from the array will give the label\n",
        "predict_label=np.argmax(a)\n",
        "print(predict_label)"
      ],
      "metadata": {
        "colab": {
          "base_uri": "https://localhost:8080/"
        },
        "id": "f0n4bNlrqyet",
        "outputId": "b5bf1714-af9d-433b-d8b7-cf3b0cd9aa11"
      },
      "execution_count": null,
      "outputs": [
        {
          "output_type": "stream",
          "name": "stdout",
          "text": [
            "6\n"
          ]
        }
      ]
    },
    {
      "cell_type": "code",
      "source": [
        "# displaying the 4th image in test dataset\n",
        "plt.imshow(test_images[4])\n",
        "plt.title(str(labels[predict_label]))\n",
        "plt.show()"
      ],
      "metadata": {
        "colab": {
          "base_uri": "https://localhost:8080/",
          "height": 281
        },
        "id": "4_NTybZKydp_",
        "outputId": "2d4db12b-a03e-4332-ad81-01e91665f2d8"
      },
      "execution_count": null,
      "outputs": [
        {
          "output_type": "display_data",
          "data": {
            "text/plain": [
              "<Figure size 432x288 with 1 Axes>"
            ],
            "image/png": "[encoded data removed]"
          },
          "metadata": {
            "needs_background": "light"
          }
        }
      ]
    },
    {
      "cell_type": "markdown",
      "source": [
        "**CONCLUSION**"
      ],
      "metadata": {
        "id": "jWCOdsORwGjg"
      }
    },
    {
      "cell_type": "markdown",
      "source": [
        "Fashion mnist data set is used to train artificial neural network with one hidden layer .\n",
        "\n",
        "*   Test accuracy using ADAM optimiser is 85% for 10 epochs and accuracy is 97.71% for 25 epochs\n",
        "\n",
        "*   For 4th image the predicted label is SHIRT\n",
        "\n",
        "\n",
        "*  After changing the learning rate from 0.001 to 0.1 the training accuracy changed from 93.88% to 96.48%\n",
        "*  and the testing accuracy reduced from 88.92% to 87.99%\n",
        "\n",
        "\n",
        "\n"
      ],
      "metadata": {
        "id": "aIX5L9pSyvr8"
      }
    },
    {
      "cell_type": "markdown",
      "source": [
        "REFERENCES USED\n",
        "\n",
        "\n",
        "*   https://towardsdatascience.com/understanding-learning-rates-and-how-it-improves-performance-in-deep-learning-d0d4059c1c10\n",
        "\n",
        "\n",
        "*   https://www.tensorflow.org/tutorials/keras/classification#import_the_fashion_mnist_dataset\n",
        "\n",
        "How to use Learning rate scheduler?\n",
        "*   https://www.tensorflow.org/api_docs/python/tf/keras/callbacks/LearningRateScheduler\n",
        "\n"
      ],
      "metadata": {
        "id": "TQuMnnho48Pe"
      }
    }
  ]
}